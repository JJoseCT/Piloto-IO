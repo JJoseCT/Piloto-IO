{
  "nbformat": 4,
  "nbformat_minor": 0,
  "metadata": {
    "colab": {
      "provenance": [],
      "authorship_tag": "ABX9TyPk/rIUzFvKXOyG6xxfD6HZ",
      "include_colab_link": true
    },
    "kernelspec": {
      "name": "python3",
      "display_name": "Python 3"
    },
    "language_info": {
      "name": "python"
    }
  },
  "cells": [
    {
      "cell_type": "markdown",
      "metadata": {
        "id": "view-in-github",
        "colab_type": "text"
      },
      "source": [
        "<a href=\"https://colab.research.google.com/github/JJoseCT/Piloto-IO/blob/main/IO_taller_00.ipynb\" target=\"_parent\"><img src=\"https://colab.research.google.com/assets/colab-badge.svg\" alt=\"Open In Colab\"/></a>"
      ]
    },
    {
      "cell_type": "code",
      "source": [
        "print(\"Hola mundo\")"
      ],
      "metadata": {
        "colab": {
          "base_uri": "https://localhost:8080/"
        },
        "id": "ZK6kpThRnRd4",
        "outputId": "4d5686ee-c07b-49d5-d80d-2062f6b31745"
      },
      "execution_count": null,
      "outputs": [
        {
          "output_type": "stream",
          "name": "stdout",
          "text": [
            "Hola mundo\n"
          ]
        }
      ]
    },
    {
      "cell_type": "markdown",
      "source": [
        "##Subtitulo"
      ],
      "metadata": {
        "id": "6QxRrC9Fn4qH"
      }
    },
    {
      "cell_type": "markdown",
      "source": [
        "*No sé ayuda*"
      ],
      "metadata": {
        "id": "6aL9lnyuoKbY"
      }
    }
  ]
}